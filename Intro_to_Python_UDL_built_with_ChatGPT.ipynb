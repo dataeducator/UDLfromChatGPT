{
 "cells": [
  {
   "cell_type": "markdown",
   "id": "2834d3e3",
   "metadata": {},
   "source": [
    "# Using ChatGPT to build a Lesson using Universal Design for Learning \n",
    "The National Center for Learning Disabilities reports that 1 in 5 people in the United States experience learning differences, including dyslexia and ADHD.  With this in mind, educators often build lessons with multiple means of engagement to provide multiple access points to content within a single lesson.\n",
    "\n",
    "[Universal Design for Learning](https://www.cast.org/impact/universal-design-for-learning-udlis) is a popular methodology for ensuring students are given multiple pathways across a standards-aligned lesson.  Recently, I began testing, and tuning prompts to leverage ChatGPT as a pseudo-coding partner to improve my Python programming knowledge. After building prompts to identify and build a reproducible protocol for wrangling data in python, I decided to attempt to craft a UDL Lesson for an introduction to Python programming leveraging the output from ChatGPT.\n",
    "\n",
    "|Lesson Objective(s):|\tThe purpose of this lesson is to provide a comprehensive overview of basic data types and variables in Python and equip students with the skills to write clean, PEP8 compliant, and DRY code.|\n",
    "|:------------------|:---------------------------------------------------------------------------------------------------------|\n",
    "|Assessment(s):      |\tJupyter Notebook with embedded Challenge Questions                                                    |\n",
    "|State Standard(s):  | SWBAT create and manipulate data using various data types and structures.|\n",
    "\n",
    "## Introduction\n",
    "There are certain data types are fundamental to writing programs in Python, and understanding how to work with them is an important step in learning how to code in this language. \n",
    "\n",
    "- <code>int</code>: An integer data type used to represent whole numbers. For example, 1, 2, 3, etc.\n",
    "\n",
    "- <code>float</code>: A floating-point data type used to represent real numbers. For example, 1.0, 2.5, 3.14, etc.\n",
    "\n",
    "- <code>str</code>: A string or object data type used to represent text data. For example, \"Hello, World!\", \"python\", etc.\n",
    "\n",
    "- <code>bool</code>: A Boolean data type used to represent truth values (True or False).\n",
    "\n",
    "- <code>list</code>: A collection data type used to store an ordered sequence of elements. For example, [1, 2, 3], [\"apple\", \"banana\", \"cherry\"], etc.\n",
    "\n",
    "- <code>tuple</code>: An immutable collection data type used to store an ordered sequence of elements. For example, (1, 2, 3), (\"apple\", \"banana\", \"cherry\"), etc.\n",
    "\n",
    "- <code>dict</code>: A dictionary data type used to store key-value pairs. For example, {\"name\": \"John Doe\", \"age\": 30}, etc.\n",
    "\n",
    "- <code>set</code> A set data type used to store unique elements. For example, {1, 2, 3}, {\"apple\", \"banana\", \"cherry\"}, etc.\n",
    "\n",
    "The first step in learning Python for data science is getting familiar with basic data types and variables.\n",
    "\n",
    "Start by [cloning ](https://docs.github.com/en/repositories/creating-and-managing-repositories/cloning-a-repository) the repository and typing Jupyter notebook in the winbash shell."
   ]
  },
  {
   "cell_type": "markdown",
   "id": "d06b8465",
   "metadata": {},
   "source": [
    "### Create a string <code>first_name</code> and assign it your first name."
   ]
  },
  {
   "cell_type": "code",
   "execution_count": 4,
   "id": "7201bf8d",
   "metadata": {},
   "outputs": [],
   "source": [
    "# Names are strings so include either ' ' or \" \"\n",
    "# Press Ctrl + Enter to run or evaluate a cell\n",
    "first_name = \"\""
   ]
  },
  {
   "cell_type": "markdown",
   "id": "baebfbed",
   "metadata": {},
   "source": [
    "### Create a string <code>last_name</code> and assign it your last name."
   ]
  },
  {
   "cell_type": "code",
   "execution_count": 5,
   "id": "9d3482ba",
   "metadata": {},
   "outputs": [],
   "source": [
    "# Replace the empty \"\" with your last name\n",
    "last_name = \"\""
   ]
  },
  {
   "cell_type": "markdown",
   "id": "57d3de11",
   "metadata": {},
   "source": [
    "### Concatenate <code>first_name</code> and <code>last_name</code> to create a full name and assign it to a new variable full_name."
   ]
  },
  {
   "cell_type": "code",
   "execution_count": 6,
   "id": "f49c16a9",
   "metadata": {},
   "outputs": [],
   "source": [
    "# Run this cell without any changes\n",
    "full_name = first_name + \" \" + last_name"
   ]
  },
  {
   "cell_type": "markdown",
   "id": "2741579b",
   "metadata": {},
   "source": [
    "### Create a new string that contains your full name with a greeting, such as \"Hello, my name is [full name].\""
   ]
  },
  {
   "cell_type": "code",
   "execution_count": 7,
   "id": "e218e81e",
   "metadata": {},
   "outputs": [],
   "source": [
    "# Replace \"\" with code that generates a greeting like Hello my name is [full_name]\n",
    "greeting = \"\" "
   ]
  },
  {
   "cell_type": "code",
   "execution_count": 8,
   "id": "553be0f4",
   "metadata": {},
   "outputs": [],
   "source": [
    "### Print the greeting string"
   ]
  },
  {
   "cell_type": "code",
   "execution_count": 9,
   "id": "bfb1aa94",
   "metadata": {},
   "outputs": [
    {
     "name": "stdout",
     "output_type": "stream",
     "text": [
      "\n"
     ]
    }
   ],
   "source": [
    "# Replace \"\" with code so that you can print your greeting\n",
    "print(\"\")"
   ]
  },
  {
   "cell_type": "markdown",
   "id": "6a594e8a",
   "metadata": {},
   "source": [
    "### Check your understanding:\n",
    "- Q1: What are the most common data types in Python and what are they used for?\n",
    "- Q2: What are variables and how are they used in Python?\n",
    "- Q3: How do you assign a value to a variable in Python?\n",
    "- Q4: How can you convert between different data types in Python?\n",
    "- Q5: What is the difference between a string and an integer in Python?\n",
    "- Q6: What happens when you try to add a string and an integer together in Python?\n",
    "- Q7: What is the syntax for creating a string in Python?\n",
    "- Q8: How can you print a variable in Python?\n",
    "- Q9: What is the difference between a string with single quotes and a string with double quotes in Python?\n",
    "- Q10: What is the purpose of the <code>type</code> function in Python?"
   ]
  },
  {
   "cell_type": "markdown",
   "id": "5301d14e",
   "metadata": {},
   "source": [
    "### Choice 1:  Modify the README.md file to include images, links and text that demonstrate your understanding of the at least 7 of the questions from the Understanding checklist.\n",
    "\n",
    "### Choice 2: Create a sketchnote that illustrates the solution to a minimum of 7 of the questions from the Understanding checklist."
   ]
  },
  {
   "cell_type": "markdown",
   "id": "d79c837d",
   "metadata": {},
   "source": [
    "Reflection: Write a 3 to 5 sentence reflection that includes the phrase *I used to think... but now I think...* about the fundamental datatypes in python."
   ]
  },
  {
   "cell_type": "code",
   "execution_count": null,
   "id": "42774f2d",
   "metadata": {},
   "outputs": [],
   "source": [
    "# Write your reflection in between the triple quotes \"\"\" \"\"\"\n",
    "\"\"\" \"\"\""
   ]
  }
 ],
 "metadata": {
  "kernelspec": {
   "display_name": "Python (learn-env)",
   "language": "python",
   "name": "learn-env"
  },
  "language_info": {
   "codemirror_mode": {
    "name": "ipython",
    "version": 3
   },
   "file_extension": ".py",
   "mimetype": "text/x-python",
   "name": "python",
   "nbconvert_exporter": "python",
   "pygments_lexer": "ipython3",
   "version": "3.8.5"
  },
  "toc": {
   "base_numbering": 1,
   "nav_menu": {},
   "number_sections": true,
   "sideBar": true,
   "skip_h1_title": false,
   "title_cell": "Table of Contents",
   "title_sidebar": "Contents",
   "toc_cell": false,
   "toc_position": {},
   "toc_section_display": true,
   "toc_window_display": false
  },
  "varInspector": {
   "cols": {
    "lenName": 16,
    "lenType": 16,
    "lenVar": 40
   },
   "kernels_config": {
    "python": {
     "delete_cmd_postfix": "",
     "delete_cmd_prefix": "del ",
     "library": "var_list.py",
     "varRefreshCmd": "print(var_dic_list())"
    },
    "r": {
     "delete_cmd_postfix": ") ",
     "delete_cmd_prefix": "rm(",
     "library": "var_list.r",
     "varRefreshCmd": "cat(var_dic_list()) "
    }
   },
   "types_to_exclude": [
    "module",
    "function",
    "builtin_function_or_method",
    "instance",
    "_Feature"
   ],
   "window_display": false
  }
 },
 "nbformat": 4,
 "nbformat_minor": 5
}
