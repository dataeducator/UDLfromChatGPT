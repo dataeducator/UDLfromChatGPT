{
 "cells": [
  {
   "cell_type": "markdown",
   "id": "5c2f1cd4",
   "metadata": {},
   "source": [
    "## Using ChatGPT to build a Lesson using Universal Design for Learning \n",
    "The National Center for Learning Disabilities reports that 1 in 5 people in the United States experience learning differences, including dyslexia and ADHD.  With this in mind, educators often build lessons with multiple means of engagement to provide multiple access points to content within a single lesson.\n",
    "\n",
    "[Universal Design for Learning](https://www.cast.org/impact/universal-design-for-learning-udlis) is a popular methodology for ensuring students are given multiple pathways across a standards-aligned lesson.  Recently, I began testing, and tuning prompts to leverage ChatGPT as a pseudo-coding partner to improve my Python programming knowledge. After building prompts to identify and build a reproducible protocol for wrangling data in python, I decided to attempt to craft a UDL Lesson for an introduction to Python programming leveraging the output from ChatGPT.\n",
    "\n",
    "|Lesson Objective(s):|\tThe purpose of this lesson is to provide a comprehensive overview of basic data types and variables in Python and equip students with the skills to write clean, PEP8 compliant, and DRY code.|\n",
    "|:------------------|:---------------------------------------------------------------------------------------------------------|\n",
    "|Assessment(s):      |\tJupyter Notebook with embedded Challenge Questions                                                    |\n",
    "|State Standard(s):  | SWBAT create and manipulate data using various data types and structures.|\n",
    "\n",
    "## Introduction\n",
    "There are certain data types are fundamental to writing programs in Python, and understanding how to work with them is an important step in learning how to code in this language. \n",
    "The first step in learning Python for data science is getting familiar with basic data types and variables.\n",
    "\n",
    "Start by [cloning ](https://docs.github.com/en/repositories/creating-and-managing-repositories/cloning-a-repository) the repository and typing Jupyter notebook in the winbash shell."
   ]
  },
  {
   "cell_type": "markdown",
   "id": "8ec6dae9",
   "metadata": {},
   "source": [
    "## In Python, there are several basic data types, including integers, floating-point numbers, strings, and booleans.\n"
   ]
  },
  {
   "cell_type": "markdown",
   "id": "61bc8943",
   "metadata": {},
   "source": [
    "### Integers\n",
    "Integers are whole numbers. For example, 1, 2, 3, etc."
   ]
  },
  {
   "cell_type": "code",
   "execution_count": 1,
   "id": "b327b408",
   "metadata": {},
   "outputs": [
    {
     "name": "stdout",
     "output_type": "stream",
     "text": [
      "5\n"
     ]
    }
   ],
   "source": [
    "# Run this cell without changes\n",
    "x = 5\n",
    "print(x) # 5"
   ]
  },
  {
   "cell_type": "code",
   "execution_count": 2,
   "id": "ef5e6c02",
   "metadata": {},
   "outputs": [
    {
     "name": "stdout",
     "output_type": "stream",
     "text": [
      "10\n"
     ]
    }
   ],
   "source": [
    "# Run this cell without changes\n",
    "y = 10\n",
    "print(y) # 10"
   ]
  },
  {
   "cell_type": "markdown",
   "id": "7a986ac9",
   "metadata": {},
   "source": [
    "In Python, when x and y are integers, x % y represents the remainder of x divided by y. The operator % is called the modulo operator and returns the remainder of the division of x by y. Similarly, when x and y are integers, x // y represents the floor division of x by y. The operator // is called the floor division operator and returns the integer result of the division of x by y rounded down to the nearest whole number."
   ]
  },
  {
   "cell_type": "markdown",
   "id": "432e0b35",
   "metadata": {},
   "source": [
    "In a new cell perform the following mathematical operations with x and y:\n",
    "- Addition\n",
    "- Subtraction\n",
    "- Multiplication\n",
    "- Division\n",
    "- Modulus\n",
    "- Floor Division"
   ]
  },
  {
   "cell_type": "code",
   "execution_count": 3,
   "id": "33c59f86",
   "metadata": {},
   "outputs": [],
   "source": [
    "# Add math operations using print() stataments"
   ]
  },
  {
   "cell_type": "markdown",
   "id": "6ab06246",
   "metadata": {},
   "source": [
    "### Floating-point numbers (Floats)\n",
    "Floats are decimal numbers. For example, 1.0, 2.5, 3.14, etc."
   ]
  },
  {
   "cell_type": "code",
   "execution_count": 19,
   "id": "ceabf9e5",
   "metadata": {},
   "outputs": [
    {
     "name": "stdout",
     "output_type": "stream",
     "text": [
      "10\n"
     ]
    }
   ],
   "source": [
    "# Run this cell without changes\n",
    "y = 10\n",
    "print(y) # 10"
   ]
  },
  {
   "cell_type": "markdown",
   "id": "7b23f8d0",
   "metadata": {},
   "source": [
    "In a new cell, define a variable <code>x</code> and assign it the value between 5.0 and 10.0"
   ]
  },
  {
   "cell_type": "code",
   "execution_count": 20,
   "id": "eed34d51",
   "metadata": {},
   "outputs": [
    {
     "name": "stdout",
     "output_type": "stream",
     "text": [
      "5\n"
     ]
    }
   ],
   "source": [
    "# Run this cell without changes\n",
    "x = 5\n",
    "print(x) #5"
   ]
  },
  {
   "cell_type": "markdown",
   "id": "f6f4b243",
   "metadata": {},
   "source": [
    "Determine the type of the variable x using the <code>type()</code> function."
   ]
  },
  {
   "cell_type": "code",
   "execution_count": 21,
   "id": "dd7ed2a2",
   "metadata": {},
   "outputs": [
    {
     "name": "stdout",
     "output_type": "stream",
     "text": [
      "<class 'int'>\n"
     ]
    }
   ],
   "source": [
    "# Run this cell without changes\n",
    "print(type(x))"
   ]
  },
  {
   "cell_type": "markdown",
   "id": "dc499de0",
   "metadata": {},
   "source": [
    "In a new cell, define a variable y and assign it the value -10."
   ]
  },
  {
   "cell_type": "code",
   "execution_count": 22,
   "id": "34346a4f",
   "metadata": {},
   "outputs": [],
   "source": [
    "# Replace 0 with -10.\n",
    "y = 0"
   ]
  },
  {
   "cell_type": "code",
   "execution_count": 23,
   "id": "3f0a44cf",
   "metadata": {},
   "outputs": [
    {
     "name": "stdout",
     "output_type": "stream",
     "text": [
      "<class 'int'>\n"
     ]
    }
   ],
   "source": [
    "# Run this cell without changes\n",
    "print(type(y))"
   ]
  },
  {
   "cell_type": "markdown",
   "id": "3631f8cd",
   "metadata": {},
   "source": [
    "In a new cell, convert the value of y to a float and perform the same operations as before."
   ]
  },
  {
   "cell_type": "code",
   "execution_count": 25,
   "id": "77a06e85",
   "metadata": {},
   "outputs": [
    {
     "name": "stdout",
     "output_type": "stream",
     "text": [
      "-5.0\n",
      "15.0\n",
      "-50.0\n",
      "-0.5\n",
      "-5.0\n",
      "-1.0\n"
     ]
    }
   ],
   "source": [
    "#Convert integer into a float\n",
    "y = float(y)\n",
    "x = float(x)\n",
    "# print math operations\n",
    "print(x + y)\n",
    "print(x - y)\n",
    "print(x * y)\n",
    "print(x / y)\n",
    "print(x % y)\n",
    "print(x // y)"
   ]
  },
  {
   "cell_type": "markdown",
   "id": "7497064e",
   "metadata": {},
   "source": [
    "### Strings\n",
    "Strings are sequences of characters"
   ]
  },
  {
   "cell_type": "code",
   "execution_count": 10,
   "id": "24224563",
   "metadata": {},
   "outputs": [
    {
     "name": "stdout",
     "output_type": "stream",
     "text": [
      "hello\n"
     ]
    }
   ],
   "source": [
    "# Run this cell without changes\n",
    "z = \"hello\"\n",
    "print(z) # \"hello\""
   ]
  },
  {
   "cell_type": "markdown",
   "id": "37b2d759",
   "metadata": {},
   "source": [
    "### Create a string <code>first_name</code> and assign it your first name."
   ]
  },
  {
   "cell_type": "code",
   "execution_count": 11,
   "id": "2a404737",
   "metadata": {},
   "outputs": [],
   "source": [
    "# Names are strings so include either ' ' or \" \"\n",
    "# Press Ctrl + Enter to run or evaluate a cell\n",
    "first_name = \"\""
   ]
  },
  {
   "cell_type": "markdown",
   "id": "36c19137",
   "metadata": {},
   "source": [
    "### Create a string <code>last_name</code> and assign it your last name."
   ]
  },
  {
   "cell_type": "code",
   "execution_count": 12,
   "id": "6e1dd682",
   "metadata": {},
   "outputs": [],
   "source": [
    "# Replace the empty \"\" with your last name\n",
    "last_name = \"\""
   ]
  },
  {
   "cell_type": "markdown",
   "id": "756551af",
   "metadata": {},
   "source": [
    "### Concatenate <code>first_name</code> and <code>last_name</code> to create a full name and assign it to a new variable full_name."
   ]
  },
  {
   "cell_type": "code",
   "execution_count": 13,
   "id": "3acc7045",
   "metadata": {},
   "outputs": [],
   "source": [
    "# Run this cell without any changes\n",
    "full_name = first_name + \" \" + last_name"
   ]
  },
  {
   "cell_type": "markdown",
   "id": "13ff55ce",
   "metadata": {},
   "source": [
    "### Create a new string that contains your full name with a greeting, such as \"Hello, my name is [full name].\""
   ]
  },
  {
   "cell_type": "code",
   "execution_count": 14,
   "id": "ffc22156",
   "metadata": {},
   "outputs": [],
   "source": [
    "# Replace \"\" with code that generates a greeting like Hello my name is [full_name]\n",
    "greeting = \"\" "
   ]
  },
  {
   "cell_type": "code",
   "execution_count": 15,
   "id": "376d3d9c",
   "metadata": {},
   "outputs": [],
   "source": [
    "### Print the greeting string"
   ]
  },
  {
   "cell_type": "code",
   "execution_count": 29,
   "id": "7d481ee4",
   "metadata": {},
   "outputs": [
    {
     "name": "stdout",
     "output_type": "stream",
     "text": [
      "\n"
     ]
    }
   ],
   "source": [
    "# Replace \"\" with code so that you can print your greeting\n",
    "print(\"\")"
   ]
  },
  {
   "cell_type": "markdown",
   "id": "9e180304",
   "metadata": {},
   "source": [
    "### Booleans\n",
    "Booleans are a data type in Python used to represent binary values - either True or False. By practicing with different comparison and logical operators, you'll be able to use Booleans in more complex control flow and decision-making processes in your programs. They are often used for logical operations and control flow in programs. Start by creating a simple example of a Boolean expression in Python:"
   ]
  },
  {
   "cell_type": "code",
   "execution_count": 31,
   "id": "2b273987",
   "metadata": {},
   "outputs": [
    {
     "data": {
      "text/plain": [
       "True"
      ]
     },
     "execution_count": 31,
     "metadata": {},
     "output_type": "execute_result"
    }
   ],
   "source": [
    "# Run this cell without changes\n",
    "x = 5\n",
    "x > 3"
   ]
  },
  {
   "cell_type": "markdown",
   "id": "fe72be5a",
   "metadata": {},
   "source": [
    "Experiment with different comparison operators in Python:\n",
    "Will the following cells evaluate as True or False:"
   ]
  },
  {
   "cell_type": "code",
   "execution_count": 32,
   "id": "4dd42905",
   "metadata": {},
   "outputs": [
    {
     "data": {
      "text/plain": [
       "True"
      ]
     },
     "execution_count": 32,
     "metadata": {},
     "output_type": "execute_result"
    }
   ],
   "source": [
    "# Run this cell without changes, make a guess before running the cell\n",
    "x = 5\n",
    "x == 5"
   ]
  },
  {
   "cell_type": "code",
   "execution_count": 33,
   "id": "2c441523",
   "metadata": {},
   "outputs": [
    {
     "data": {
      "text/plain": [
       "False"
      ]
     },
     "execution_count": 33,
     "metadata": {},
     "output_type": "execute_result"
    }
   ],
   "source": [
    "# Run this cell without changes, make a guess before running the cell\n",
    "x != 5"
   ]
  },
  {
   "cell_type": "code",
   "execution_count": null,
   "id": "7f61fc52",
   "metadata": {},
   "outputs": [],
   "source": [
    "# Run this cell without changes, make a guess before running the cell\n",
    "x > 3"
   ]
  },
  {
   "cell_type": "code",
   "execution_count": null,
   "id": "7b532530",
   "metadata": {},
   "outputs": [],
   "source": [
    "# Run this cell without changes, make a guess before running the cell\n",
    "x < 3"
   ]
  },
  {
   "cell_type": "code",
   "execution_count": 34,
   "id": "d5d16863",
   "metadata": {},
   "outputs": [
    {
     "data": {
      "text/plain": [
       "True"
      ]
     },
     "execution_count": 34,
     "metadata": {},
     "output_type": "execute_result"
    }
   ],
   "source": [
    "# Run this cell without changes, make a guess before running the cell\n",
    "is_five = (x == 5)\n",
    "is_five"
   ]
  },
  {
   "cell_type": "code",
   "execution_count": 35,
   "id": "08356e60",
   "metadata": {},
   "outputs": [
    {
     "data": {
      "text/plain": [
       "False"
      ]
     },
     "execution_count": 35,
     "metadata": {},
     "output_type": "execute_result"
    }
   ],
   "source": [
    "# Run this cell without changes, make a guess before running the cell\n",
    "is_three = (x == 3)\n",
    "is_three"
   ]
  },
  {
   "cell_type": "markdown",
   "id": "d6ef8527",
   "metadata": {},
   "source": [
    "### Variables are used to store values\n",
    "In Python, variables are names used to store values in memory. A variable can store any type of data such as numbers, text, or lists. \n",
    "/n The assignment operator <code>=</code> is used to assign values to variables. For example, you could create a variable named \"x\" and assign it the value of 5 like this:\n",
    "\n",
    "<code>x = 5</code>\n",
    "\n",
    "You can then access the value of x by simply referencing its name:\n",
    "\n",
    "<code>print(x) # Output: 5</code>\n",
    "\n",
    "Variables can also be reassigned different values at any time:\n",
    "\n",
    "<code>x = 10</code>\n",
    "<code>print(x) # Output: 10</code>"
   ]
  },
  {
   "cell_type": "code",
   "execution_count": 37,
   "id": "4d31d7d3",
   "metadata": {},
   "outputs": [
    {
     "name": "stdout",
     "output_type": "stream",
     "text": [
      "Name: Tenicka Terell\n",
      "Age: 30\n",
      "Gender: Female\n"
     ]
    }
   ],
   "source": [
    "# Run this cell without any changes\n",
    "# Variables in Python\n",
    "name = \"Tenicka Terell\"\n",
    "age = 30\n",
    "is_male = False\n",
    "\n",
    "# Printing Variables\n",
    "print(\"Name:\", name) # Name: Tenicka Terell\n",
    "print(\"Age:\", age) # Age: 30\n",
    "print(\"Gender:\", \"Male\" if is_male else \"Female\") # Gender: Female"
   ]
  },
  {
   "cell_type": "markdown",
   "id": "34cea30d",
   "metadata": {},
   "source": [
    "### Lists\n",
    "In Python, a list is a data structure that allows you to store an ordered collection of elements, which can be of any data type (e.g. numbers, strings, etc.). Lists are declared using square brackets, with each element separated by a comma. For example:\n",
    "<code>fruits = ['apple', 'banana', 'cherry']</code>"
   ]
  },
  {
   "cell_type": "code",
   "execution_count": 39,
   "id": "94b8873f",
   "metadata": {},
   "outputs": [
    {
     "name": "stdout",
     "output_type": "stream",
     "text": [
      "Sorted list: [1, 1, 3, 4, 5]\n",
      "Reversed list: [5, 4, 3, 1, 1]\n",
      "List after removing the last element: [5, 4, 3, 1]\n"
     ]
    }
   ],
   "source": [
    "# Run this cell without any changes\n",
    "# Creating a list of numbers\n",
    "numbers = [3, 1, 4, 1, 5]\n",
    "\n",
    "# Sorting the list in ascending order\n",
    "numbers.sort()\n",
    "print(\"Sorted list:\", numbers)\n",
    "\n",
    "# Reversing the list\n",
    "numbers.reverse()\n",
    "print(\"Reversed list:\", numbers)\n",
    "\n",
    "# Removing the last element from the list\n",
    "numbers.pop()\n",
    "print(\"List after removing the last element:\", numbers)"
   ]
  },
  {
   "cell_type": "markdown",
   "id": "a8c6ba49",
   "metadata": {},
   "source": [
    "### Tuples\n",
    "In Python, a tuple is a collection of ordered, immutable, and heterogeneous elements. It is defined using parentheses and separated by commas. For example:\n",
    "<code>t = (1, \"hello\", 2.0)</code>"
   ]
  },
  {
   "cell_type": "code",
   "execution_count": 38,
   "id": "b78553b2",
   "metadata": {},
   "outputs": [
    {
     "name": "stdout",
     "output_type": "stream",
     "text": [
      "Second element of the tuple: 1\n",
      "4 exists in the tuple\n"
     ]
    }
   ],
   "source": [
    "# Creating a tuple of numbers\n",
    "numbers = (3, 1, 4, 1, 5)\n",
    "\n",
    "# Retrieving the second element from the tuple\n",
    "print(\"Second element of the tuple:\", numbers[1])\n",
    "\n",
    "# Check if a number exists in the tuple\n",
    "check_number = 4\n",
    "if check_number in numbers:\n",
    "    print(f\"{check_number} exists in the tuple\")\n",
    "else:\n",
    "    print(f\"{check_number} does not exist in the tuple\")"
   ]
  },
  {
   "cell_type": "markdown",
   "id": "b7907d7a",
   "metadata": {},
   "source": [
    "### Dictionaries\n",
    "Dictionaries in Python are a collection of key-value pairs. The keys are used to identify individual values within the dictionary, while the values are the data stored in the dictionary. Dictionaries are mutable and unordered, meaning that the elements within the dictionary can be changed and do not have a fixed order. Dictionaries are defined using curly braces ({}) and the key-value pairs are separated by colons (:). For example:\n",
    "\n",
    "<code>my_dict = {'name': 'John Doe', 'age': 30, 'gender': 'Male'}</code>\n",
    "\n",
    "In this example, <code>'name', 'age', and 'gender'</code> are the keys and <code>'John Doe', 30, and 'Male'</code> are the values. To access values within the dictionary, you can use square brackets and the key, like this:\n",
    "\n",
    "<code>print(my_dict['name']) # Output: John Doe </code>"
   ]
  },
  {
   "cell_type": "code",
   "execution_count": 40,
   "id": "89333642",
   "metadata": {},
   "outputs": [
    {
     "name": "stdout",
     "output_type": "stream",
     "text": [
      "Dictionary: {1: 1, 2: 4, 3: 9, 4: 16, 5: 25}\n",
      "Value for key 3: 9\n",
      "Dictionary after updating value: {1: 1, 2: 4, 3: 9, 4: 10, 5: 25}\n",
      "Dictionary after removing key-value pair: {1: 1, 2: 4, 3: 9, 4: 10}\n"
     ]
    }
   ],
   "source": [
    "# Run this cell without changes\n",
    "# Creating a dictionary with keys as numbers and values as their squares\n",
    "squared_numbers = {x: x**2 for x in range(1, 6)}\n",
    "print(\"Dictionary:\", squared_numbers)\n",
    "\n",
    "# Retrieving the value for a given key\n",
    "key = 3\n",
    "print(f\"Value for key {key}:\", squared_numbers[key])\n",
    "\n",
    "# Updating the value for a given key\n",
    "key = 4\n",
    "squared_numbers[key] = 10\n",
    "print(\"Dictionary after updating value:\", squared_numbers)\n",
    "\n",
    "# Removing a key-value pair from the dictionary\n",
    "key = 5\n",
    "squared_numbers.pop(key)\n",
    "print(\"Dictionary after removing key-value pair:\", squared_numbers)"
   ]
  },
  {
   "cell_type": "markdown",
   "id": "f3fadcb1",
   "metadata": {},
   "source": [
    "## Check your understanding:\n",
    "\n",
    "Answer 7 to 10 of the following questions: \n",
    "- Q1: What are the most common data types in Python and what are they used for?\n",
    "- Q2: What are variables and how are they used in Python?\n",
    "- Q3: How do you assign a value to a variable in Python?\n",
    "- Q4: How can you convert between different data types in Python?\n",
    "- Q5: What is the difference between a string and an integer in Python?\n",
    "- Q6: What happens when you try to add a string and an integer together in Python?\n",
    "- Q7: What is the syntax for creating a string in Python?\n",
    "- Q8: How can you print a variable in Python?\n",
    "- Q9: What is the difference between a string with single quotes and a string with double quotes in Python?\n",
    "- Q10: What is the purpose of the <code>type</code> function in Python?"
   ]
  },
  {
   "cell_type": "markdown",
   "id": "59e716c6",
   "metadata": {},
   "source": [
    "### Choice 1:  Modify the README.md file to include images, links and text that demonstrate your understanding of the at least 7 of the questions from the Understanding checklist.\n",
    "\n",
    "### Choice 2: Create a sketchnote that illustrates the solution to a minimum of 7 of the questions from the Understanding checklist."
   ]
  },
  {
   "cell_type": "markdown",
   "id": "9551b714",
   "metadata": {},
   "source": [
    "## Reflection: \n",
    "Write a 3 to 5 sentence reflection that includes the phrase *I used to think... but now I think...* about the fundamental datatypes in python."
   ]
  },
  {
   "cell_type": "code",
   "execution_count": 17,
   "id": "525f91c2",
   "metadata": {},
   "outputs": [
    {
     "data": {
      "text/plain": [
       "' '"
      ]
     },
     "execution_count": 17,
     "metadata": {},
     "output_type": "execute_result"
    }
   ],
   "source": [
    "# Write your reflection in between the triple quotes \"\"\" \"\"\"\n",
    "\"\"\" \"\"\""
   ]
  }
 ],
 "metadata": {
  "kernelspec": {
   "display_name": "Python (learn-env)",
   "language": "python",
   "name": "learn-env"
  },
  "language_info": {
   "codemirror_mode": {
    "name": "ipython",
    "version": 3
   },
   "file_extension": ".py",
   "mimetype": "text/x-python",
   "name": "python",
   "nbconvert_exporter": "python",
   "pygments_lexer": "ipython3",
   "version": "3.8.5"
  },
  "toc": {
   "base_numbering": 1,
   "nav_menu": {},
   "number_sections": true,
   "sideBar": true,
   "skip_h1_title": false,
   "title_cell": "Table of Contents",
   "title_sidebar": "Contents",
   "toc_cell": false,
   "toc_position": {},
   "toc_section_display": true,
   "toc_window_display": false
  },
  "varInspector": {
   "cols": {
    "lenName": 16,
    "lenType": 16,
    "lenVar": 40
   },
   "kernels_config": {
    "python": {
     "delete_cmd_postfix": "",
     "delete_cmd_prefix": "del ",
     "library": "var_list.py",
     "varRefreshCmd": "print(var_dic_list())"
    },
    "r": {
     "delete_cmd_postfix": ") ",
     "delete_cmd_prefix": "rm(",
     "library": "var_list.r",
     "varRefreshCmd": "cat(var_dic_list()) "
    }
   },
   "types_to_exclude": [
    "module",
    "function",
    "builtin_function_or_method",
    "instance",
    "_Feature"
   ],
   "window_display": false
  }
 },
 "nbformat": 4,
 "nbformat_minor": 5
}
